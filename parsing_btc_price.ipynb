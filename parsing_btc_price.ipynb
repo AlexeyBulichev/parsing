{
 "cells": [
  {
   "cell_type": "code",
   "execution_count": 1,
   "id": "5c51c0cd-6389-436e-8b88-e897a4daa80f",
   "metadata": {},
   "outputs": [],
   "source": [
    "import requests\n",
    "from bs4 import BeautifulSoup\n",
    "import pandas as pd\n",
    "import psycopg2\n",
    "from datetime import datetime"
   ]
  },
  {
   "cell_type": "code",
   "execution_count": 2,
   "id": "26fc5726-1250-40a3-b41e-d8455188058e",
   "metadata": {},
   "outputs": [
    {
     "name": "stdout",
     "output_type": "stream",
     "text": [
      "200\n"
     ]
    }
   ],
   "source": [
    "response = requests.get('https://ru.investing.com/crypto')\n",
    "print(response.status_code) # We are checking the connection to the site. If 200, then everything is OK."
   ]
  },
  {
   "cell_type": "code",
   "execution_count": 3,
   "id": "0e1d416c-e710-46e5-b487-729144661783",
   "metadata": {},
   "outputs": [],
   "source": [
    "soup = BeautifulSoup(response.text, 'lxml') # uploading the HTML code"
   ]
  },
  {
   "cell_type": "code",
   "execution_count": 4,
   "id": "4a708832-a214-46ed-b2c4-5553b78c1210",
   "metadata": {},
   "outputs": [],
   "source": [
    "tbody = soup.find(\"tbody\", class_=\"datatable-v2_body__8TXQk\").find_all(\"tr\") # select the table that we need"
   ]
  },
  {
   "cell_type": "code",
   "execution_count": 5,
   "id": "fc517397-38d5-43a0-b541-65399bade98c",
   "metadata": {},
   "outputs": [],
   "source": [
    "list_temp = [] # an empty list for data\n",
    "for row in tbody:\n",
    "    temp = row.get_text(\"|\", strip=True).split('|') # выводим чистый текст\n",
    "    temp = temp[:3] + temp[6:] \n",
    "    list_temp.append(temp)"
   ]
  },
  {
   "cell_type": "code",
   "execution_count": 6,
   "id": "587c5e93-2d20-460e-9b96-fdda4b880069",
   "metadata": {},
   "outputs": [],
   "source": [
    "list_btc = list_temp[0] # since a table with data from different currencies is displayed, we only output BTC. "
   ]
  },
  {
   "cell_type": "code",
   "execution_count": 7,
   "id": "40731185-bace-4718-98e2-5a0b66a97975",
   "metadata": {},
   "outputs": [
    {
     "data": {
      "text/plain": [
       "['Биткоин', 'BTC', '97.360,6', '-1,32%', '-6,43%', '$1,93T']"
      ]
     },
     "execution_count": 7,
     "metadata": {},
     "output_type": "execute_result"
    }
   ],
   "source": [
    "list_btc # let's see what we've deduced"
   ]
  },
  {
   "cell_type": "code",
   "execution_count": 8,
   "id": "6f79e2db-8ce6-49a1-948c-d1a87df98cae",
   "metadata": {},
   "outputs": [],
   "source": [
    "conn = psycopg2.connect(\n",
    "    dbname='cripto',\n",
    "    user='postgres',\n",
    "    password='postgres',  \n",
    "    host='postgres', \n",
    "    port=5432\n",
    ")\n",
    "# setting up a connection to the database"
   ]
  },
  {
   "cell_type": "code",
   "execution_count": 9,
   "id": "d1bf3c3d-60de-45ab-9655-54492dabdbf9",
   "metadata": {},
   "outputs": [],
   "source": [
    "cur = conn.cursor() # Opening the session"
   ]
  },
  {
   "cell_type": "code",
   "execution_count": 10,
   "id": "e2b2128e-6146-4a9c-996c-8a8ae2d64449",
   "metadata": {},
   "outputs": [],
   "source": [
    "current_date = datetime.now() #We add the request completion date and process the rest of the data\n",
    "current_name = list_btc[0]\n",
    "current_tag = list_btc[1]\n",
    "current_price = float(list_btc[2].replace('.', '').replace(',', '.'))\n",
    "current_dif_1d = float(list_btc[3].replace('.', '').replace(',', '.').replace('%', ''))\n",
    "current_dif_7d = float(list_btc[4].replace('.', '').replace(',', '.').replace('%', ''))\n",
    "current_capital = int(float(list_btc[5].replace('$', '').replace(',', '.').replace('T', '')) * 1e12)"
   ]
  },
  {
   "cell_type": "code",
   "execution_count": 11,
   "id": "3056396d-c76f-4ab4-8a88-5fa2225bf083",
   "metadata": {},
   "outputs": [
    {
     "name": "stdout",
     "output_type": "stream",
     "text": [
      "Запись успешно добавлена!\n"
     ]
    }
   ],
   "source": [
    "try:\n",
    "    insert_sql = '''\n",
    "    INSERT INTO btc_price (date, name, tag, price, dif_1d, dif_7d, capital) \n",
    "    VALUES (%s, %s, %s, %s, %s, %s, %s)\n",
    "    '''\n",
    "    cur.execute(insert_sql, (current_date, current_name, current_tag, current_price, current_dif_1d, current_dif_7d, current_capital))\n",
    "    conn.commit()\n",
    "    print('Запись успешно добавлена!')\n",
    "except Exception as e:\n",
    "    print('Ошибка:', e) # uploading data to the database\n"
   ]
  },
  {
   "cell_type": "code",
   "execution_count": 12,
   "id": "b5573d57-f69b-4e0b-8e59-e4c38f36df46",
   "metadata": {},
   "outputs": [],
   "source": [
    "cur.close() # Closing the session"
   ]
  },
  {
   "cell_type": "code",
   "execution_count": 13,
   "id": "31cd40fd-1372-414e-8e52-bef51d960e59",
   "metadata": {},
   "outputs": [],
   "source": [
    "#conn.rollback() # just in case =)"
   ]
  },
  {
   "cell_type": "code",
   "execution_count": 14,
   "id": "e8444bb4-00dd-490b-8bd3-cecec5bfd940",
   "metadata": {},
   "outputs": [
    {
     "data": {
      "text/plain": [
       "[['Биткоин', 'BTC', '97.360,6', '-1,32%', '-6,43%', '$1,93T'],\n",
       " ['Эфириум', 'ETH', '2.742,40', '-3,06%', '-15,71%', '$331,51B'],\n",
       " ['Tether USDt', 'USDT', '1,0003', '-0,03%', '+0,04%', '$141,42B'],\n",
       " ['XRP', 'XRP', '2,3816', '-2,86%', '-22,47%', '$137,68B'],\n",
       " ['Solana', 'SOL', '197,283', '-2,46%', '-16,09%', '$96,33B'],\n",
       " ['BNB', 'BNB', '584,80', '+0,96%', '-13,63%', '$83,52B'],\n",
       " ['USDC', 'USDC', '0,9996', '-0,01%', '+0,02%', '$55,91B'],\n",
       " ['Dogecoin', 'DOGE', '0,253357', '-3,89%', '-22,41%', '$37,55B'],\n",
       " ['Cardano', 'ADA', '0,7297', '-4,17%', '-23,30%', '$25,73B'],\n",
       " ['TRON', 'TRX', '0,227689', '-0,19%', '-10,44%', '$19,63B'],\n",
       " ['Chainlink', 'LINK', '19,24', '-2,88%', '-22,95%', '$12,30B'],\n",
       " ['Avalanche', 'AVAX', '25,30', '-5,22%', '-26,44%', '$10,43B'],\n",
       " ['Stellar', 'XLM', '0,32893', '-2,99%', '-21,32%', '$10,08B'],\n",
       " ['Sui', 'SUI', '3,2311', '-6,58%', '-21,99%', '$10,02B'],\n",
       " ['Toncoin', 'TON', '3,7774', '-3,66%', '-23,02%', '$9,37B'],\n",
       " ['Hedera', 'HBAR', '0,23658', '-4,55%', '-23,95%', '$9,08B'],\n",
       " ['UNUS SED LEO', 'LEOu', '9,8661', '-0,06%', '+0,45%', '$9,07B'],\n",
       " ['Shiba Inu', 'SHIB', '0,00001519', '-5,19%', '-18,40%', '$8,96B'],\n",
       " ['Hyperliquid', 'HYPE', '24,1326', '-5,82%', '-11,04%', '$8,06B'],\n",
       " ['Bitget Token', 'BGB', '6,6919', '-1,37%', '-2,30%', '$8,04B']]"
      ]
     },
     "execution_count": 14,
     "metadata": {},
     "output_type": "execute_result"
    }
   ],
   "source": [
    "list_temp # This is what the table of all coins we are uploading looks like."
   ]
  },
  {
   "cell_type": "code",
   "execution_count": 15,
   "id": "0cbd4f4c-1b6d-4b19-95d0-994306fdd6fb",
   "metadata": {},
   "outputs": [
    {
     "data": {
      "text/plain": [
       "[datetime.datetime(2025, 2, 7, 11, 23, 2, 97333),\n",
       " 'Биткоин',\n",
       " 'BTC',\n",
       " 97360.6,\n",
       " -1.32,\n",
       " -6.43,\n",
       " 1930000000000]"
      ]
     },
     "execution_count": 15,
     "metadata": {},
     "output_type": "execute_result"
    }
   ],
   "source": [
    "list([current_date, \n",
    "      current_name, \n",
    "      current_tag, \n",
    "      current_price, \n",
    "      current_dif_1d, \n",
    "      current_dif_7d, \n",
    "      current_capital]) # This is what we uploaded to the database."
   ]
  }
 ],
 "metadata": {
  "kernelspec": {
   "display_name": "Python 3 (ipykernel)",
   "language": "python",
   "name": "python3"
  },
  "language_info": {
   "codemirror_mode": {
    "name": "ipython",
    "version": 3
   },
   "file_extension": ".py",
   "mimetype": "text/x-python",
   "name": "python",
   "nbconvert_exporter": "python",
   "pygments_lexer": "ipython3",
   "version": "3.12.8"
  }
 },
 "nbformat": 4,
 "nbformat_minor": 5
}
